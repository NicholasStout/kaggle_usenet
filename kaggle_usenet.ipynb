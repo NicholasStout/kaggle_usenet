{
 "cells": [
  {
   "cell_type": "code",
   "execution_count": 1,
   "metadata": {},
   "outputs": [
    {
     "name": "stderr",
     "output_type": "stream",
     "text": [
      "/usr/lib/python3.6/importlib/_bootstrap.py:219: RuntimeWarning: compiletime version 3.5 of module 'tensorflow.python.framework.fast_tensor_util' does not match runtime version 3.6\n",
      "  return f(*args, **kwds)\n"
     ]
    }
   ],
   "source": [
    "import tensorflow as tf\n",
    "import numpy as np\n",
    "import pandas as pd\n",
    "import os\n",
    "import imageio\n",
    "import matplotlib.pyplot as plt\n",
    "\n",
    "def gray(rgb):\n",
    "    r, g, b = rgb[:,:,0], rgb[:,:,1], rgb[:,:,2]\n",
    "    return g\n",
    "\n",
    "def flip_img(horizontal_flip, tr_img, label_img):\n",
    "    if horizontal_flip:\n",
    "        flip_prob = tf.random_uniform([], 0.0, 1.0)\n",
    "        tr_img, label_img = tf.cond(tf.less(flip_prob, 0.5),\n",
    "                                lambda: (tf.image.flip_left_right(tr_img), tf.image.flip_left_right(label_img)),\n",
    "                                lambda: (tr_img, label_img))\n",
    "    return tr_img, label_img\n",
    "\n",
    "def get_img_pair(test=False):\n",
    "    train = \"train/images/\"\n",
    "    mask = \"train/masks/\"\n",
    "    file_list = os.listdir(train)\n",
    "    num = 1\n",
    "    if test:\n",
    "        num = np.random.randint(0,len(file_list))-1\n",
    "    name = file_list[num]\n",
    "    print(name)\n",
    "    train_path = train + name\n",
    "    mask_path = mask + name\n",
    "    t_im = imageio.imread(train_path)\n",
    "    m_im = imageio.imread(mask_path)\n",
    "    t_im = gray(t_im)/255\n",
    "    m_im = m_im/65535\n",
    "    return t_im, m_im"
   ]
  },
  {
   "cell_type": "markdown",
   "metadata": {},
   "source": [
    "Imports; a function to get just one grey value, one to randomly flip an image, and one to normalize the image between 0 and 1."
   ]
  },
  {
   "cell_type": "code",
   "execution_count": null,
   "metadata": {},
   "outputs": [],
   "source": [
    "class usenet:\n",
    "    \n",
    "    def conv_block(in_img, num_filters, k_size):\n",
    "        c_0 = tf.layers.conv2d(in_img, num_filters, k_size, activation=tf.nn.relu)\n",
    "        n_0 = tf.layers.batch_normalization(c_0)\n",
    "        c_1 = tf.layers.conv2d(in_img, num_filters, k_size, activation=tf.nn.relu)\n",
    "        n_1 = tf.layers.batch_normalization(c_0)\n",
    "        return n_1\n",
    "    \n",
    "    def deconv_block(in_tens, concat_tens, num_filters, k_size):\n",
    "        t_0 = tf.layers.conv2d_transpose(in_tens, num_filters, 2, strides=(2,2), activation=tf.nn.relu)\n",
    "        concat = tf.concat([concat_tens, t_0], -1)\n",
    "        n_0 = tf.layers.batch_normalization(concat)\n",
    "        c_0 = conv_block(n_0, num_filters, k_size)\n",
    "        c_1 = conv_block(c_0, num_filters, k_size)\n",
    "        return c_1\n",
    "    \n",
    "    def __init__(input_size=[?,101,101,1]):\n",
    "        k_size = 3\n",
    "        self.inp = tf.placeholder(size=input_size, dtype=tf.float32)\n",
    "        ff_0 = tf.layers.dense(self.inp, [?,96,96,1], activation=tf.nn.relu)\n",
    "        #96\n",
    "        c_0 = conv_block(in_img, 32, k_size)\n",
    "        p_0 = tf.layers.max_pooling2d(c_0, (2,2), strides=(2,2))\n",
    "        #48\n",
    "        c_1 = conv_block(p_0, 64, k_size)\n",
    "        p_1 = tf.layers.max_pooling2d(c_1, (2,2), strides=(2,2))\n",
    "        #25\n",
    "        c_2 = conv_block(p_1, 128, k_size)\n",
    "        p_2 = tf.layers.max_pooling2d(c_2, (2,2), strides=(2,2))\n",
    "        #12\n",
    "        c_3 = conv_block(p_2, 256, k_size)\n",
    "        p_3 = tf.layers.max_pooling2d(c_3, (2,2), strides=(2,2))\n",
    "        #6\n",
    "        center = conv_block(p_3, 512, k_size)\n",
    "        \n",
    "        d_0 = deconv_block(center, c_3, 256, k_size)\n",
    "        #12\n",
    "        d_1 = deconv_block(d_0, c_2, 256, k_size)\n",
    "        #24\n",
    "        d_2 = deconv_block(d_1, c_1, 256, k_size)\n",
    "        #48\n",
    "        d_3 = deconv_block(d_2, c_0, 256, k_size)\n",
    "        #96\n",
    "        c_4 = tf.layers.conv2d(d_3, 1, (1,1), activation=tf.nn.relu)\n",
    "        \n",
    "        self.output = tf.layers.dense(c_4, [?,101,101,1], activation = tf.nn.relu)"
   ]
  },
  {
   "cell_type": "code",
   "execution_count": 4,
   "metadata": {},
   "outputs": [
    {
     "name": "stdout",
     "output_type": "stream",
     "text": [
      "a94450f57e.png\n"
     ]
    },
    {
     "data": {
      "image/png": "[encoded data removed]",
      "text/plain": [
       "<matplotlib.figure.Figure at 0x7f0b69171278>"
      ]
     },
     "metadata": {},
     "output_type": "display_data"
    }
   ],
   "source": [
    "t_im, m_im = get_img_pair()\n",
    "s_im = (t_im)*((m_im)+.5)\n",
    "imgplot = plt.imshow(s_im)\n",
    "plt.show()"
   ]
  },
  {
   "cell_type": "markdown",
   "metadata": {},
   "source": [
    "Visualization of the data, with the mask of the solution covering it."
   ]
  },
  {
   "cell_type": "code",
   "execution_count": 41,
   "metadata": {},
   "outputs": [
    {
     "name": "stdout",
     "output_type": "stream",
     "text": [
      "2218\n"
     ]
    },
    {
     "ename": "TypeError",
     "evalue": "must be str, not int",
     "output_type": "error",
     "traceback": [
      "\u001b[0;31m---------------------------------------------------------------------------\u001b[0m",
      "\u001b[0;31mTypeError\u001b[0m                                 Traceback (most recent call last)",
      "\u001b[0;32m<ipython-input-41-b3a6816c4b22>\u001b[0m in \u001b[0;36m<module>\u001b[0;34m()\u001b[0m\n\u001b[1;32m      8\u001b[0m         \u001b[0mname\u001b[0m \u001b[0;34m=\u001b[0m \u001b[0mnp\u001b[0m\u001b[0;34m.\u001b[0m\u001b[0mrandom\u001b[0m\u001b[0;34m.\u001b[0m\u001b[0mrandint\u001b[0m\u001b[0;34m(\u001b[0m\u001b[0;36m0\u001b[0m\u001b[0;34m,\u001b[0m\u001b[0mlen\u001b[0m\u001b[0;34m(\u001b[0m\u001b[0mfile_list\u001b[0m\u001b[0;34m)\u001b[0m\u001b[0;34m)\u001b[0m\u001b[0;34m-\u001b[0m\u001b[0;36m1\u001b[0m\u001b[0;34m\u001b[0m\u001b[0m\n\u001b[1;32m      9\u001b[0m         \u001b[0mprint\u001b[0m\u001b[0;34m(\u001b[0m\u001b[0mname\u001b[0m\u001b[0;34m)\u001b[0m\u001b[0;34m\u001b[0m\u001b[0m\n\u001b[0;32m---> 10\u001b[0;31m         \u001b[0mtrain_path\u001b[0m \u001b[0;34m=\u001b[0m \u001b[0mtrain\u001b[0m \u001b[0;34m+\u001b[0m \u001b[0mname\u001b[0m\u001b[0;34m\u001b[0m\u001b[0m\n\u001b[0m\u001b[1;32m     11\u001b[0m         \u001b[0mmask_path\u001b[0m \u001b[0;34m=\u001b[0m \u001b[0mmask\u001b[0m \u001b[0;34m+\u001b[0m \u001b[0mname\u001b[0m\u001b[0;34m\u001b[0m\u001b[0m\n\u001b[1;32m     12\u001b[0m         \u001b[0mt_im\u001b[0m \u001b[0;34m=\u001b[0m \u001b[0mimageio\u001b[0m\u001b[0;34m.\u001b[0m\u001b[0mimread\u001b[0m\u001b[0;34m(\u001b[0m\u001b[0mtrain_path\u001b[0m\u001b[0;34m)\u001b[0m\u001b[0;34m\u001b[0m\u001b[0m\n",
      "\u001b[0;31mTypeError\u001b[0m: must be str, not int"
     ]
    }
   ],
   "source": [
    "rounds = 100000\n",
    "config = tf.ConfigProto(\n",
    "        device_count = {'GPU': 0}\n",
    "    )\n",
    "with tf.Session(config=config) as sess:\n",
    "    sess.run(tf.global_variables_initializer())\n",
    "    for i in range(rounds):\n",
    "        "
   ]
  },
  {
   "cell_type": "code",
   "execution_count": null,
   "metadata": {},
   "outputs": [],
   "source": []
  }
 ],
 "metadata": {
  "kernelspec": {
   "display_name": "Python 3",
   "language": "python",
   "name": "python3"
  },
  "language_info": {
   "codemirror_mode": {
    "name": "ipython",
    "version": 3
   },
   "file_extension": ".py",
   "mimetype": "text/x-python",
   "name": "python",
   "nbconvert_exporter": "python",
   "pygments_lexer": "ipython3",
   "version": "3.6.6"
  }
 },
 "nbformat": 4,
 "nbformat_minor": 2
}
